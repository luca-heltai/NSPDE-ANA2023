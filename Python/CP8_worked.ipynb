{
 "cells": [
  {
   "cell_type": "markdown",
   "metadata": {
    "colab_type": "text",
    "id": "view-in-github"
   },
   "source": [
    "<a href=\"https://colab.research.google.com/github/andreacangiani/NSPDE-ANA2023/blob/main/Python/CP8_worked.ipynb\" target=\"_parent\"><img src=\"https://colab.research.google.com/assets/colab-badge.svg\" alt=\"Open In Colab\"/></a>"
   ]
  },
  {
   "cell_type": "markdown",
   "metadata": {
    "id": "_xNKsr0STBRP"
   },
   "source": [
    "# Tutorial 2: solving a diffusion problem in 2D"
   ]
  },
  {
   "cell_type": "markdown",
   "metadata": {
    "id": "fBMAMfrnTT63"
   },
   "source": [
    "We start by loading the FEniCSx modules, exaclty as in the previous tutorial."
   ]
  },
  {
   "cell_type": "code",
   "execution_count": 1,
   "metadata": {
    "id": "WMF6CUwWS29z"
   },
   "outputs": [],
   "source": [
    "try:\n",
    "    import dolfinx\n",
    "except ImportError:\n",
    "    !wget \"https://github.com/fem-on-colab/fem-on-colab.github.io/raw/1f2303e/releases/fenicsx-install-real.sh\" -O \"/tmp/fenicsx-install.sh\" && bash \"/tmp/fenicsx-install.sh\"\n",
    "    import dolfinx"
   ]
  },
  {
   "cell_type": "code",
   "execution_count": 4,
   "metadata": {
    "id": "uPArpuUgTglM"
   },
   "outputs": [],
   "source": [
    "import dolfinx.fem\n",
    "import dolfinx.mesh\n",
    "import mpi4py.MPI\n",
    "import numpy as np\n",
    "import ufl"
   ]
  },
  {
   "cell_type": "markdown",
   "metadata": {
    "id": "5n3yU3bgTqSh"
   },
   "source": [
    "We consider the model boundary value problem: find $u: \\Omega = (0, 1)^2 \\to \\mathbb{R}$ such that\n",
    "\\begin{equation*}\n",
    "\\begin{cases}\n",
    "- \\Delta u = f, & \\text{in } \\Omega,\\\\\n",
    "u = g, & \\text{on } \\partial\\Omega.\n",
    "\\end{cases}\n",
    "\\end{equation*}\n",
    "\n",
    "with $f\\equiv 1$ and the boundary value $g(\\mathbf{x})$ given by\n",
    "$$\n",
    "g(\\mathbf{x}) = g(x_0, x_1) = \\sin(3 \\pi x_0 + 1) \\ \\sin(3 \\pi x_1 + 1).\n",
    "$$"
   ]
  },
  {
   "cell_type": "markdown",
   "metadata": {
    "id": "JuPOCXx-T8wV"
   },
   "source": [
    "\n",
    "**Task 1: create a mesh.** As first example, we generate a triangular mesh of the domain $\\Omega$, dividing both the horizontal and vertical sides of the square in nxm equispaced subintervals.\n",
    "\n",
    "Similarly to 1D case, `dolfinx.mesh` provides the function `create_unit_square` for this task. "
   ]
  },
  {
   "cell_type": "code",
   "execution_count": 5,
   "metadata": {
    "id": "pF1Tpx8IUjTz"
   },
   "outputs": [],
   "source": [
    "n = 10\n",
    "m = 15\n",
    "mesh = dolfinx.mesh.create_unit_square(mpi4py.MPI.COMM_WORLD, n, m)"
   ]
  },
  {
   "cell_type": "markdown",
   "metadata": {
    "id": "ef4UIz_thrih"
   },
   "source": [
    "Let's see how many cells are in the mesh. \n",
    "\n",
    "We store in:\n",
    "* tdim: the problem dimension (2)\n",
    "* fdim: the mesh scheleton entities dimension (1)\n",
    "* num_cells: the number of triangles in the mesh"
   ]
  },
  {
   "cell_type": "code",
   "execution_count": 6,
   "metadata": {
    "id": "sAmv5f7kbFvS"
   },
   "outputs": [
    {
     "data": {
      "text/plain": [
       "300"
      ]
     },
     "execution_count": 6,
     "metadata": {},
     "output_type": "execute_result"
    }
   ],
   "source": [
    "tdim = mesh.topology.dim\n",
    "fdim = tdim - 1\n",
    "\n",
    "num_cells = mesh.topology.index_map(tdim).size_local\n",
    "num_cells"
   ]
  },
  {
   "cell_type": "markdown",
   "metadata": {
    "id": "sQzzflCSVMah"
   },
   "source": [
    "We can obtain an interactive plot of the domain using `pyvista`. (Click on the menu: next to the dropdown that contains \"Geometry 0\" you may find three different representations: the domain itself, the edges of the mesh, and both overlayed.)"
   ]
  },
  {
   "cell_type": "code",
   "execution_count": 7,
   "metadata": {
    "id": "I1osUxojVrPJ"
   },
   "outputs": [],
   "source": [
    "# viskex.dolfinx.plot_mesh(mesh)"
   ]
  },
  {
   "cell_type": "markdown",
   "metadata": {
    "id": "asiKDasAWY6n"
   },
   "source": [
    "**Task 2:** Determine IDs of boundary edges in view of the application of the Dirichlet boundary condition.\n",
    "\n",
    "As in 1D case, this is obtained via the `dolfinx.mesh` `locate_entities_boundary` function. We want all edges on the boundary, but the function always requires a third input to permit the selection of parts of the boundary. As a workaround to this, we pass as third argument the function which always returns `True`."
   ]
  },
  {
   "cell_type": "code",
   "execution_count": 8,
   "metadata": {
    "id": "SVXfQiIeWwGc"
   },
   "outputs": [
    {
     "data": {
      "text/plain": [
       "array([  0,   2,   5,   7,  14,  16,  26,  28,  41,  43,  59,  61,  80,\n",
       "        82, 104, 106, 131, 133, 161, 163, 166, 194, 196, 225, 227, 256,\n",
       "       258, 287, 289, 318, 320, 347, 349, 373, 375, 396, 398, 416, 418,\n",
       "       433, 435, 447, 449, 458, 460, 466, 468, 471, 473, 474], dtype=int32)"
      ]
     },
     "execution_count": 8,
     "metadata": {},
     "output_type": "execute_result"
    }
   ],
   "source": [
    "boundary_entities = dolfinx.mesh.locate_entities_boundary(\n",
    "    mesh, fdim, lambda x: np.full((x.shape[1], ), True))\n",
    "boundary_entities"
   ]
  },
  {
   "cell_type": "markdown",
   "metadata": {
    "id": "Z4MIxH8AYV7D"
   },
   "source": [
    "and we can visualise the found boundary entities to check this was done correctly."
   ]
  },
  {
   "cell_type": "code",
   "execution_count": 9,
   "metadata": {
    "id": "SRVpHc01YdNU"
   },
   "outputs": [],
   "source": [
    "# viskex.dolfinx.plot_mesh_entities(mesh, mesh.topology.dim - 1, \"boundaries\", boundary_entities)"
   ]
  },
  {
   "cell_type": "markdown",
   "metadata": {
    "id": "NOMQFzZJmVTd"
   },
   "source": [
    "**Task 3: create FEM space.**\n",
    "\n",
    "Define the finite element function space $V_h$ using $\\mathbb{P}_1$ Lagrange elements.\n",
    "\n",
    "This part of the code is indistinguishable from the 1D version..."
   ]
  },
  {
   "cell_type": "code",
   "execution_count": 10,
   "metadata": {
    "id": "D1QNin0imfl4"
   },
   "outputs": [],
   "source": [
    "Vh = dolfinx.fem.FunctionSpace(mesh, (\"Lagrange\", 1))"
   ]
  },
  {
   "cell_type": "markdown",
   "metadata": {
    "id": "0vWpPzr5mmI3"
   },
   "source": [
    "... and compute its dimension"
   ]
  },
  {
   "cell_type": "code",
   "execution_count": 11,
   "metadata": {
    "id": "iKYaXya1mozq"
   },
   "outputs": [
    {
     "data": {
      "text/plain": [
       "176"
      ]
     },
     "execution_count": 11,
     "metadata": {},
     "output_type": "execute_result"
    }
   ],
   "source": [
    "Vh_dim = Vh.dofmap.index_map.size_local\n",
    "Vh_dim"
   ]
  },
  {
   "cell_type": "markdown",
   "metadata": {
    "id": "gfq7b2dRmzIF"
   },
   "source": [
    "Once the FE space is at hand, we introduce ufl symbols to define the trial and test functions for our weak formulation:"
   ]
  },
  {
   "cell_type": "code",
   "execution_count": 12,
   "metadata": {
    "id": "srnG2gYjnAfD"
   },
   "outputs": [],
   "source": [
    "uh = ufl.TrialFunction(Vh)\n",
    "vh = ufl.TestFunction(Vh)"
   ]
  },
  {
   "cell_type": "markdown",
   "metadata": {
    "id": "6O-LPzYQnK5L"
   },
   "source": [
    "**Task 4:** set up FEM system\n",
    "\n",
    "We produce the weak formulation of the problem: find $u_h\\in V_h$ such that\n",
    "$$ \\int_\\Omega \\nabla u \\cdot \\nabla v \\ \\mathrm{d} \\mathbf{x} = \\int_\\Omega f \\ v \\ \\mathrm{d} \\mathbf{x},\\qquad\\forall v_h\\in V_h$$\n",
    "using `ufl`."
   ]
  },
  {
   "cell_type": "code",
   "execution_count": 13,
   "metadata": {
    "id": "34_EvwwYnilD"
   },
   "outputs": [],
   "source": [
    "dx = ufl.dx\n",
    "inner = ufl.inner\n",
    "grad = ufl.grad\n",
    "A = inner(grad(uh), grad(vh)) * dx"
   ]
  },
  {
   "cell_type": "code",
   "execution_count": 14,
   "metadata": {
    "id": "JLZ2N4eeooHb"
   },
   "outputs": [],
   "source": [
    "F = vh * dx"
   ]
  },
  {
   "cell_type": "markdown",
   "metadata": {
    "id": "20lvPHWOFAb-"
   },
   "source": [
    "**Task 5:** set up the boundary conditions\n",
    "\n",
    "In order to assign the boundary condition we first need to evaluate the expression of $g$ (i.e. $\\sin(3 \\pi x_0 + 1) \\ \\sin(3 \\pi x_1 + 1)$ in our case) on the finite element space $V_h$. We do this by interpolation, so we define the discrete boundary condition as \n",
    "$$g_h=I_h g$$ \n",
    "\n",
    "with $I_h$ the interpolation operator."
   ]
  },
  {
   "cell_type": "code",
   "execution_count": 15,
   "metadata": {
    "id": "zCKAWD0ME_6m"
   },
   "outputs": [],
   "source": [
    "gh = dolfinx.fem.Function(Vh)\n",
    "gh.interpolate(lambda x: np.sin(3 * np.pi * x[0] + 1) * np.sin(3 * np.pi * x[1] + 1))"
   ]
  },
  {
   "cell_type": "markdown",
   "metadata": {
    "id": "ivZhXNbxHEZo"
   },
   "source": [
    "We then initialize a `dolfinx.fem` `dirichletbc` object, stating that the Dirichlet boundary condition should be equal to `gh` on each facet in `boundary_entities`."
   ]
  },
  {
   "cell_type": "code",
   "execution_count": 16,
   "metadata": {
    "id": "BeL2pvXvHKLl"
   },
   "outputs": [],
   "source": [
    "boundary_dofs = dolfinx.fem.locate_dofs_topological(Vh, fdim, boundary_entities)\n",
    "bc = dolfinx.fem.dirichletbc(gh, boundary_dofs)"
   ]
  },
  {
   "cell_type": "markdown",
   "metadata": {
    "id": "4yPtHI-hHfuA"
   },
   "source": [
    "**Task 6:** solve the FEM system.\n",
    "\n",
    "As in 1D case, we have to first provide a `Function` class to store the solution of a finite element problem and then we are ready to solve the discrete problem allocating a new `LinearProblem` (which uses `PETSc`), providing as input the bilinear form `a`, the linear functional `F`, the boundary conditions `bcs`, and where to store the solution. Further solver options can also be passed to `PETSc`."
   ]
  },
  {
   "cell_type": "code",
   "execution_count": 17,
   "metadata": {
    "id": "pOevHkspHm81"
   },
   "outputs": [],
   "source": [
    "solution = dolfinx.fem.Function(Vh)"
   ]
  },
  {
   "cell_type": "code",
   "execution_count": 18,
   "metadata": {
    "id": "TTmev_CpICDD"
   },
   "outputs": [],
   "source": [
    "problem = dolfinx.fem.petsc.LinearProblem(\n",
    "    A, F, bcs=[bc], u=solution,\n",
    "    petsc_options={\"ksp_type\": \"preonly\", \"pc_type\": \"lu\", \"pc_factor_mat_solver_type\": \"mumps\"})\n",
    "_ = problem.solve()"
   ]
  },
  {
   "cell_type": "markdown",
   "metadata": {
    "id": "zpCAqJaFIHgJ"
   },
   "source": [
    "**Task7:** plot the solution"
   ]
  },
  {
   "cell_type": "code",
   "execution_count": 40,
   "metadata": {},
   "outputs": [],
   "source": [
    "from dolfinx import io\n",
    "with io.VTXWriter(mesh.comm, \"output.bp\", [solution]) as vtx:\n",
    "    vtx.write(0.0)\n",
    "with io.XDMFFile(mesh.comm, \"output.xdmf\", \"w\") as xdmf:\n",
    "    xdmf.write_mesh(mesh)\n",
    "    xdmf.write_function(solution)"
   ]
  },
  {
   "cell_type": "markdown",
   "metadata": {
    "id": "BNH5UaXmZnBm"
   },
   "source": [
    "First we require a few more imports."
   ]
  },
  {
   "cell_type": "code",
   "execution_count": null,
   "metadata": {
    "id": "SJhx-xt0YgSZ"
   },
   "outputs": [],
   "source": [
    "import petsc4py.PETSc\n",
    "import typing"
   ]
  },
  {
   "cell_type": "code",
   "execution_count": null,
   "metadata": {
    "id": "VX37nR3yXydC"
   },
   "outputs": [],
   "source": [
    "def unit_square_structured_mesh(n: int) -> typing.Tuple[dolfinx.mesh.Mesh, typing.Dict[int, np.ndarray]]:\n",
    "    \"\"\"Generate a structured mesh of the unit square, and locate its four boundaries.\"\"\"\n",
    "    # Generate structured mesh\n",
    "    mesh = dolfinx.mesh.create_unit_square(mpi4py.MPI.COMM_WORLD, n, n)\n",
    "\n",
    "    # Locate boundary entities\n",
    "    boundaries = {\n",
    "        1: dolfinx.mesh.locate_entities_boundary(mesh, mesh.topology.dim - 1, lambda x: np.isclose(x[0], 0.0)),\n",
    "        2: dolfinx.mesh.locate_entities_boundary(mesh, mesh.topology.dim - 1, lambda x: np.isclose(x[1], 0.0)),\n",
    "        3: dolfinx.mesh.locate_entities_boundary(mesh, mesh.topology.dim - 1, lambda x: np.isclose(x[0], 1.0)),\n",
    "        4: dolfinx.mesh.locate_entities_boundary(mesh, mesh.topology.dim - 1, lambda x: np.isclose(x[1], 1.0))\n",
    "    }\n",
    "\n",
    "    # Return\n",
    "    return mesh, boundaries"
   ]
  },
  {
   "cell_type": "markdown",
   "metadata": {
    "id": "mZLVUiFYZC65"
   },
   "source": [
    "We test the implementation on the case 𝑛=10, visualizing the resulting mesh and boundary labels."
   ]
  },
  {
   "cell_type": "code",
   "execution_count": null,
   "metadata": {
    "id": "zQgvt0BlY8Xn"
   },
   "outputs": [],
   "source": [
    "mesh_10, boundaries_10 = unit_square_structured_mesh(10)\n",
    "viskex.dolfinx.plot_mesh(mesh_10)"
   ]
  },
  {
   "cell_type": "code",
   "execution_count": null,
   "metadata": {
    "id": "RK3XbA1_ZJVS"
   },
   "outputs": [],
   "source": [
    "viskex.dolfinx.plot_mesh_entities(\n",
    "    mesh_10, mesh_10.topology.dim - 1, \"boundaries\",\n",
    "    np.hstack((boundaries_10[1], boundaries_10[2], boundaries_10[3], boundaries_10[4])))"
   ]
  },
  {
   "cell_type": "markdown",
   "metadata": {
    "id": "OsAczWVoZX2g"
   },
   "source": [
    "Next we write the function `unit_square_poisson_solve(mesh, boundaries, order)` combining the usual steps that we carry out when solving a finite element problem with FEniCS: (i) definition of a finite element space, (ii) definition of the weak form, (iii) definition of the boundary conditions, (iv) linear system assembly, and (v) linear system solve.\n",
    "\n",
    "For the solving fase, we access the library KSP of linear system solvers from PETSc"
   ]
  },
  {
   "cell_type": "code",
   "execution_count": null,
   "metadata": {
    "id": "Fn35gtdmZSwA"
   },
   "outputs": [],
   "source": [
    "def unit_square_poisson_solve(\n",
    "    mesh: dolfinx.mesh.Mesh, boundaries: typing.Dict[int, np.ndarray], order: int\n",
    ") -> typing.Tuple[dolfinx.fem.FunctionSpace, petsc4py.PETSc.Mat, dolfinx.fem.Function]:\n",
    "    \"\"\"Solve a Poisson problem on the unit square.\"\"\"\n",
    "    # Function space\n",
    "    Vh = dolfinx.fem.FunctionSpace(mesh, (\"Lagrange\", order))\n",
    "\n",
    "    # Weak form\n",
    "    uh = ufl.TrialFunction(Vh)\n",
    "    vh = ufl.TestFunction(Vh)\n",
    "    x = ufl.SpatialCoordinate(mesh)\n",
    "    f = 8 * ufl.pi**2 * ufl.sin(2 * ufl.pi * x[0]) * ufl.cos(2 * ufl.pi * x[1])\n",
    "    dx = ufl.dx\n",
    "    inner = ufl.inner\n",
    "    grad = ufl.grad\n",
    "    a = inner(grad(uh), grad(vh)) * dx\n",
    "    F = f * vh * dx\n",
    "\n",
    "    # Boundary conditions\n",
    "    boundary_value = dolfinx.fem.Function(Vh)\n",
    "    boundary_value.interpolate(lambda x: np.sin(2 * np.pi * x[0]))\n",
    "    zero = dolfinx.fem.Constant(mesh, 0.0)\n",
    "    boundary_dofs = {\n",
    "        i: dolfinx.fem.locate_dofs_topological(Vh, mesh.topology.dim - 1, boundaries[i]) for i in range(1, 5)}\n",
    "\n",
    "    bcs = [\n",
    "        dolfinx.fem.dirichletbc(zero, boundary_dofs[1], Vh),\n",
    "        dolfinx.fem.dirichletbc(boundary_value, boundary_dofs[2]),\n",
    "        dolfinx.fem.dirichletbc(zero, boundary_dofs[3], Vh),\n",
    "        dolfinx.fem.dirichletbc(boundary_value, boundary_dofs[4])]\n",
    "\n",
    "    # Assemble system\n",
    "    a_cpp = dolfinx.fem.form(a)\n",
    "    F_cpp = dolfinx.fem.form(F)\n",
    "    A = dolfinx.fem.petsc.assemble_matrix(a_cpp, bcs)\n",
    "    A.assemble()\n",
    "    b = dolfinx.fem.petsc.assemble_vector(F_cpp)\n",
    "    dolfinx.fem.petsc.apply_lifting(b, [a_cpp], [bcs])\n",
    "    dolfinx.fem.petsc.set_bc(b, bcs)\n",
    "\n",
    "    # Solve\n",
    "    solution = dolfinx.fem.Function(Vh)\n",
    "    ksp = petsc4py.PETSc.KSP()\n",
    "    ksp.create(mesh.comm)\n",
    "    ksp.setOperators(A)\n",
    "    ksp.setType(\"preonly\")\n",
    "    ksp.getPC().setType(\"lu\")\n",
    "    ksp.getPC().setFactorSolverType(\"mumps\")\n",
    "    ksp.setFromOptions()\n",
    "    ksp.solve(b, solution.vector)\n",
    "\n",
    "    # Return\n",
    "    return Vh, A, solution"
   ]
  },
  {
   "cell_type": "markdown",
   "metadata": {
    "id": "ErNq4I5Taf20"
   },
   "source": [
    "Let's test it"
   ]
  },
  {
   "cell_type": "code",
   "execution_count": null,
   "metadata": {
    "id": "v3K5qdRGaipu"
   },
   "outputs": [],
   "source": [
    "Vh, A_10, solution_10 = unit_square_poisson_solve(mesh_10, boundaries_10, 1)\n",
    "viskex.dolfinx.plot_scalar_field(solution_10, \"u_h\")"
   ]
  },
  {
   "cell_type": "markdown",
   "metadata": {
    "id": "LD2lLvZba3Vl"
   },
   "source": [
    "Finally, the main task: computing errors. \n",
    "\n",
    "To this end, we write a function `unit_square_solution_error(mesh, solution, space)` that computes the norm of the error between a finite element solution and the exact solution to the Poisson problem on the domain $\\Omega$. The first input argument `mesh` contains the mesh of $\\Omega$, the second input argument `solution` contains the finite element solution, while the norm definition is derived from the third input argument `space` (if `space == 0`, the $L^2(\\Omega) = H^0(\\Omega)$ norm is used, while if `space == 1` the $H^1(\\Omega)$ norm is used).\n",
    "\n",
    "The function implments the following steps: (i) definition of the exact solution, (ii) computation of the difference between the finite element solution and the exact solution, (iii) representation of the square of norm of the error in `ufl`, (iv) evaluation of the square of norm of the error by assembling the `ufl` representation, and (v) application of a square root (do not forget this!) to get the error from its square.\n",
    "\n"
   ]
  },
  {
   "cell_type": "code",
   "execution_count": null,
   "metadata": {
    "id": "68J1imsNbKzu"
   },
   "outputs": [],
   "source": [
    "def unit_square_solution_error(\n",
    "    mesh: dolfinx.mesh.Mesh, solution: dolfinx.fem.Function, space: int\n",
    ") -> float:\n",
    "    \"\"\"Compute the error between the FE solution and the exact solution.\"\"\"\n",
    "    # Definition of the exact solution\n",
    "    x = ufl.SpatialCoordinate(mesh)\n",
    "    u_ex = ufl.sin(2 * ufl.pi * x[0]) * ufl.cos(2 * ufl.pi * x[1])\n",
    "\n",
    "    # Computation of the difference between the finite element solution and the exact solution\n",
    "    diff = solution - u_ex\n",
    "\n",
    "    # UFL representation of the square of the norm of the error depending on the input argument space\n",
    "    dx = ufl.dx\n",
    "    if space == 0:\n",
    "        eh_squared_ufl = diff * diff * dx\n",
    "    elif space == 1:\n",
    "        inner = ufl.inner\n",
    "        grad = ufl.grad\n",
    "        eh_squared_ufl = diff * diff * dx + inner(grad(diff), grad(diff)) * dx\n",
    "    else:\n",
    "        raise RuntimeError(\"Invalid space.\")\n",
    "\n",
    "    # Evaluation of the square of the norm of the error by assembling the UFL representation\n",
    "    eh_squared = dolfinx.fem.assemble_scalar(dolfinx.fem.form(eh_squared_ufl))\n",
    "\n",
    "    # Compute the square root and return\n",
    "    return np.sqrt(eh_squared)"
   ]
  },
  {
   "cell_type": "markdown",
   "metadata": {
    "id": "2ciS6RiVbPQ9"
   },
   "source": [
    "We test the implementation on the solution we have obtained from the mesh with $n = 10$ and $\\mathbb{P}^1$ finite elements."
   ]
  },
  {
   "cell_type": "markdown",
   "metadata": {
    "id": "qYxR45T7bbUU"
   },
   "source": [
    "Here is the L2 error"
   ]
  },
  {
   "cell_type": "code",
   "execution_count": null,
   "metadata": {
    "id": "5AE-D9_NbQGe"
   },
   "outputs": [],
   "source": [
    "unit_square_solution_error(mesh_10, solution_10, 0)"
   ]
  },
  {
   "cell_type": "markdown",
   "metadata": {
    "id": "kvCjdU04beBE"
   },
   "source": [
    "And the H1 error"
   ]
  },
  {
   "cell_type": "code",
   "execution_count": null,
   "metadata": {
    "id": "fJcjqpB1bZwW"
   },
   "outputs": [],
   "source": [
    "unit_square_solution_error(mesh_10, solution_10, 1)"
   ]
  },
  {
   "cell_type": "markdown",
   "metadata": {
    "id": "4cN1KSvIdP80"
   },
   "source": [
    "**Exercise 1:** Check the rate of convergence by running a series of experiments. (See, eg.  CP5)"
   ]
  },
  {
   "cell_type": "markdown",
   "metadata": {
    "id": "XAhm3-KyJ3gL"
   },
   "source": [
    "Solution:"
   ]
  },
  {
   "cell_type": "code",
   "execution_count": null,
   "metadata": {
    "id": "tmiZLwbGdZYp"
   },
   "outputs": [],
   "source": [
    "no_experiments = 7\n",
    "N = 2\n",
    "Err = np.zeros(no_experiments-1)\n",
    "NN = np.zeros(no_experiments-1)\n",
    "\n",
    "for i in range(no_experiments-1):\n",
    "   N= 2 * N\n",
    "   NN[i] = N\n",
    "   mesh, boundaries = unit_square_structured_mesh(N)\n",
    "   Vh, A, solution = unit_square_poisson_solve(mesh, boundaries, 1)\n",
    "   Err[i] = unit_square_solution_error(mesh, solution, 1)\n"
   ]
  },
  {
   "cell_type": "code",
   "execution_count": null,
   "metadata": {
    "id": "sEB7bpC9flaa"
   },
   "outputs": [],
   "source": [
    "# Plot error\n",
    "import matplotlib.pyplot as plt\n",
    "plt.loglog(NN,Err)\n",
    "plt.loglog(NN,NN**(-1))"
   ]
  },
  {
   "cell_type": "markdown",
   "metadata": {
    "id": "_k_oWWpCLBM_"
   },
   "source": [
    "# Working with subdomains"
   ]
  },
  {
   "cell_type": "markdown",
   "metadata": {
    "id": "pdIpkRmtMffA"
   },
   "source": [
    "We now solve the same problem but with the forcing function given by:\n",
    "\n",
    "$$\n",
    "f(\\mathbf{x}) = \\begin{cases}\n",
    "50, & \\mathbf{x} \\in [0.2, 0.8]^2,\\\\\n",
    "1, & \\text{otherwise},\n",
    "\\end{cases}\n",
    "$$\n"
   ]
  },
  {
   "cell_type": "markdown",
   "metadata": {
    "id": "HNWURYx1NsdW"
   },
   "source": [
    "We shall code this using by defining two subdomains:\n",
    "$$\\Omega_2 = [0.2, 0.8]^2 \\quad \\text{and} \\quad \\Omega_1 = \\Omega \\setminus \\Omega_0$$ \n",
    "\n",
    " In order to do so, we need to ensure that the mesh is alligned with the subdomains. For instance, we can take $n=m=10$: "
   ]
  },
  {
   "cell_type": "code",
   "execution_count": null,
   "metadata": {
    "id": "9UA5SYccOXy-"
   },
   "outputs": [],
   "source": [
    "n = 10\n",
    "m = 10\n",
    "mesh = dolfinx.mesh.create_unit_square(mpi4py.MPI.COMM_WORLD, n, m)\n",
    "\n",
    "num_cells = mesh.topology.index_map(tdim).size_local\n",
    "num_cells"
   ]
  },
  {
   "cell_type": "code",
   "execution_count": null,
   "metadata": {
    "id": "aJKirouJOiZq"
   },
   "outputs": [],
   "source": [
    "viskex.dolfinx.plot_mesh(mesh)"
   ]
  },
  {
   "cell_type": "code",
   "execution_count": null,
   "metadata": {
    "id": "Nc_S0bJNOwg-"
   },
   "outputs": [],
   "source": [
    "boundary_entities = dolfinx.mesh.locate_entities_boundary(\n",
    "    mesh, fdim, lambda x: np.full((x.shape[1], ), True))\n",
    "boundary_entities"
   ]
  },
  {
   "cell_type": "markdown",
   "metadata": {
    "id": "i1_BNXZwYxlE"
   },
   "source": [
    "**New Task:** Define the two subdomains $\\Omega_1$ and $\\Omega_2$ in view of the implementation of the forcing function $f$.\n",
    "\n",
    "*   mark $\\Omega_1$ and $\\Omega_2$ with labels `1` and `2`\n",
    "*   use the `dolfinx.mesh` function `locate_entities` to determine whether a cell is in $\\Omega_2$. This function checks each of the three vertices of the triangular cell, and locates all cells in which the provided condition is satisfied on all three vertices."
   ]
  },
  {
   "cell_type": "code",
   "execution_count": null,
   "metadata": {
    "id": "lYVPmDpJaxet"
   },
   "outputs": [],
   "source": [
    "inner_subdomain_entities = dolfinx.mesh.locate_entities(\n",
    "    mesh, mesh.topology.dim, lambda x: np.logical_and(\n",
    "        np.logical_and(x[0] >= 0.2, x[0] <= 0.8),\n",
    "        np.logical_and(x[1] >= 0.2, x[1] <= 0.8)))\n",
    "inner_subdomain_entities"
   ]
  },
  {
   "cell_type": "markdown",
   "metadata": {
    "id": "TSV13ZuEiZf8"
   },
   "source": [
    "We label each cell in $\\Omega_2$ with the label `2` by using the `np.full` function which return a new array with shape of input filled with value."
   ]
  },
  {
   "cell_type": "code",
   "execution_count": null,
   "metadata": {
    "id": "p0TrhbrEe-qh"
   },
   "outputs": [],
   "source": [
    "inner_subdomains_labels = np.full(inner_subdomain_entities.shape, 2, dtype=np.intc)\n",
    "inner_subdomains_labels"
   ]
  },
  {
   "cell_type": "markdown",
   "metadata": {
    "id": "VG7DBQ5wfYbj"
   },
   "source": [
    "The remaining cells will belong to $\\Omega_1$. Recall that in num_cells we have stored the total number of cells\n"
   ]
  },
  {
   "cell_type": "code",
   "execution_count": null,
   "metadata": {
    "id": "6yYZG9FqfcbD"
   },
   "outputs": [],
   "source": [
    "outer_subdomain_entities = np.setdiff1d(np.arange(num_cells), inner_subdomain_entities)\n",
    "outer_subdomain_entities"
   ]
  },
  {
   "cell_type": "code",
   "execution_count": null,
   "metadata": {
    "id": "Nc4fxsJLfzcJ"
   },
   "outputs": [],
   "source": [
    "outer_subdomains_labels = np.full(outer_subdomain_entities.shape, 1, dtype=np.intc)\n",
    "outer_subdomains_labels"
   ]
  },
  {
   "cell_type": "markdown",
   "metadata": {
    "id": "jM9Li2apbfzF"
   },
   "source": [
    "We then store both subdomains in a `dolfinx.mesh` `MeshTags` object."
   ]
  },
  {
   "cell_type": "code",
   "execution_count": null,
   "metadata": {
    "id": "X5RpQDDNbgh2"
   },
   "outputs": [],
   "source": [
    "subdomains_entities_unsorted = np.hstack((outer_subdomain_entities, inner_subdomain_entities)).astype(np.int32)\n",
    "subdomains_values_unsorted = np.hstack((outer_subdomains_labels, inner_subdomains_labels)).astype(np.int32)\n",
    "subdomains_entities_argsort = np.argsort(subdomains_entities_unsorted)\n",
    "subdomains_entities_sorted = subdomains_entities_unsorted[subdomains_entities_argsort]\n",
    "subdomains_values_sorted = subdomains_values_unsorted[subdomains_entities_argsort]\n",
    "subdomains = dolfinx.mesh.meshtags(\n",
    "    mesh, mesh.topology.dim, subdomains_entities_sorted, subdomains_values_sorted)"
   ]
  },
  {
   "cell_type": "markdown",
   "metadata": {
    "id": "ecBWYU0Gbqc-"
   },
   "source": [
    "We finally plot with `pyvista` the subdomains to verify the correct assignment of the label."
   ]
  },
  {
   "cell_type": "code",
   "execution_count": null,
   "metadata": {
    "id": "pxuoZpcMbqBz"
   },
   "outputs": [],
   "source": [
    "viskex.dolfinx.plot_mesh_tags(mesh, subdomains, \"subdomains\")"
   ]
  },
  {
   "cell_type": "markdown",
   "metadata": {
    "id": "HWx3IFLIQxLI"
   },
   "source": [
    "Defining the FEM space is as before:"
   ]
  },
  {
   "cell_type": "code",
   "execution_count": null,
   "metadata": {
    "id": "XjYuCIjDQ0z7"
   },
   "outputs": [],
   "source": [
    "Vh = dolfinx.fem.FunctionSpace(mesh, (\"Lagrange\", 1))\n",
    "\n",
    "Vh_dim = Vh.dofmap.index_map.size_local\n",
    "Vh_dim"
   ]
  },
  {
   "cell_type": "code",
   "execution_count": null,
   "metadata": {
    "id": "LpwbJzkIQ6vQ"
   },
   "outputs": [],
   "source": [
    "uh = ufl.TrialFunction(Vh)\n",
    "vh = ufl.TestFunction(Vh)"
   ]
  },
  {
   "cell_type": "markdown",
   "metadata": {
    "id": "WHTEGxESn7Uq"
   },
   "source": [
    "In order to write this problem in `ufl`, we need to inform the integral measure `dx` of the subdomain labels, using `ufl.Measure` and providing as data the `subdomains` object that we have created."
   ]
  },
  {
   "cell_type": "code",
   "execution_count": null,
   "metadata": {
    "id": "l8IKuU_WIY57"
   },
   "outputs": [],
   "source": [
    "dx = ufl.Measure(\"dx\")(subdomain_data=subdomains)"
   ]
  },
  {
   "cell_type": "markdown",
   "metadata": {
    "id": "CjWnyJz1n9AH"
   },
   "source": [
    "The bilinear form is straighforward:"
   ]
  },
  {
   "cell_type": "code",
   "execution_count": null,
   "metadata": {
    "id": "ZhVaFywEKxPb"
   },
   "outputs": [],
   "source": [
    "inner = ufl.inner\n",
    "grad = ufl.grad\n",
    "A = inner(grad(uh), grad(vh)) * dx"
   ]
  },
  {
   "cell_type": "markdown",
   "metadata": {
    "id": "3TnngdU-VhXn"
   },
   "source": [
    "> We further define the linear functional\n",
    "> $$ F(v) = \\int_\\Omega f \\ v \\ \\mathrm{d}\\mathbf{x} = \\int_{\\Omega_1} v \\ \\mathrm{d}\\mathbf{x} + \\int_{\\Omega_2} 10 \\ v \\ \\mathrm{d}\\mathbf{x}.$$\n",
    "> In order to implement this in `ufl`, we use `dx(1)` to define integration over $\\Omega_1$, and similarly `dx(2)` to define integration over $\\Omega_2$."
   ]
  },
  {
   "cell_type": "code",
   "execution_count": null,
   "metadata": {
    "id": "CzSrFjmXLT2z"
   },
   "outputs": [],
   "source": [
    "F = vh * dx(1) + 50 * vh * dx(0)"
   ]
  },
  {
   "cell_type": "markdown",
   "metadata": {
    "id": "hjtN_RU9LY9p"
   },
   "source": [
    "The rest is as before:"
   ]
  },
  {
   "cell_type": "code",
   "execution_count": null,
   "metadata": {
    "id": "hpOGN-NCLbDV"
   },
   "outputs": [],
   "source": [
    "gh = dolfinx.fem.Function(Vh)\n",
    "gh.interpolate(lambda x: np.sin(3 * np.pi * x[0] + 1) * np.sin(3 * np.pi * x[1] + 1))\n",
    "\n",
    "boundary_dofs = dolfinx.fem.locate_dofs_topological(Vh, fdim, boundary_entities)\n",
    "bc = dolfinx.fem.dirichletbc(gh, boundary_dofs)\n",
    "\n",
    "solution = dolfinx.fem.Function(Vh)\n",
    "\n",
    "problem = dolfinx.fem.petsc.LinearProblem(\n",
    "    A, F, bcs=[bc], u=solution,\n",
    "    petsc_options={\"ksp_type\": \"preonly\", \"pc_type\": \"lu\", \"pc_factor_mat_solver_type\": \"mumps\"})\n",
    "_ = problem.solve()"
   ]
  },
  {
   "cell_type": "code",
   "execution_count": null,
   "metadata": {
    "id": "b9VKGEB4L7xg"
   },
   "outputs": [],
   "source": [
    "viskex.dolfinx.plot_scalar_field(solution, \"u_h\")"
   ]
  },
  {
   "cell_type": "markdown",
   "metadata": {
    "id": "MiVeXHdlRjtE"
   },
   "source": [
    "**Exercise 2:** Use the subdomain idea to solve the problem: find $u: \\Omega = (0, 1)^2 \\to \\mathbb{R}$ such that\n",
    "\\begin{equation*}\n",
    "\\begin{cases}\n",
    "- \\nabla (\\kappa \\nabla u) = f, & \\text{in } \\Omega,\\\\\n",
    "u = g, & \\text{on } \\partial\\Omega.\n",
    "\\end{cases}\n",
    "\\end{equation*}\n",
    "with $f$  and $g$ as before and\n",
    "$$\n",
    "\\kappa(\\mathbf{x}) = \\begin{cases}\n",
    "1, & \\mathbf{x} \\in [0.2, 0.8]^2,\\\\\n",
    "0.1, & \\text{otherwise},\n",
    "\\end{cases}\n",
    "$$\n"
   ]
  },
  {
   "cell_type": "markdown",
   "metadata": {
    "id": "ZpKMz1KsSniE"
   },
   "source": [
    "**Exercise 3:** By yourself or using the official tutorial\n",
    "\n",
    "https://jorgensd.github.io/dolfinx-tutorial/index.html\n",
    "\n",
    "as reference, find out how to use the subdomain idea to define different boundary conditions. For instance, solve with:\n",
    "$$\n",
    "u = g \\quad\\text{if } \\quad x=0 \\quad \\text{or}\\quad  x=1,\n",
    "$$\n",
    "and \n",
    "$$\n",
    "-\\frac{\\partial u}{\\partial {\\mathbf n}} = h \\quad \\text{otherwise}.\n",
    "$$\n",
    "with\n",
    "$$\n",
    "h(x,y)=\n",
    "\\left\\{\n",
    "\\begin{array}{ll}\n",
    "0 & \\text{if } y=0\\\\\n",
    "-4 & \\text{if } y=1.\n",
    "\\end{array}\n",
    "\\right.\n",
    "$$\n",
    "\n"
   ]
  }
 ],
 "metadata": {
  "colab": {
   "authorship_tag": "ABX9TyPQsImD3/M6R7AmnCqUK1GL",
   "include_colab_link": true,
   "provenance": []
  },
  "kernelspec": {
   "display_name": "Python 3 (ipykernel)",
   "language": "python",
   "name": "python3"
  },
  "language_info": {
   "codemirror_mode": {
    "name": "ipython",
    "version": 3
   },
   "file_extension": ".py",
   "mimetype": "text/x-python",
   "name": "python",
   "nbconvert_exporter": "python",
   "pygments_lexer": "ipython3",
   "version": "3.10.6"
  }
 },
 "nbformat": 4,
 "nbformat_minor": 4
}
