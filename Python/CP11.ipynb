{
 "cells": [
  {
   "cell_type": "markdown",
   "id": "2e4e314c-af18-4ec9-ae45-f6be70e3ea4c",
   "metadata": {},
   "source": [
    "# Stokes problem"
   ]
  },
  {
   "cell_type": "code",
   "execution_count": 1,
   "id": "ebde70ce-7807-4be5-904e-8552cac2ba50",
   "metadata": {},
   "outputs": [],
   "source": [
    "import dolfinx\n",
    "import dolfinx.fem\n",
    "import dolfinx.mesh\n",
    "import mpi4py.MPI\n",
    "import numpy as np\n",
    "import ufl"
   ]
  },
  {
   "cell_type": "code",
   "execution_count": 2,
   "id": "6c7037ff-5ad6-48b9-a6d7-1718b18bfede",
   "metadata": {},
   "outputs": [],
   "source": [
    "n = 10\n",
    "m = 15\n",
    "domain = dolfinx.mesh.create_unit_square(mpi4py.MPI.COMM_WORLD, n, m)"
   ]
  },
  {
   "cell_type": "code",
   "execution_count": 3,
   "id": "0f53aa56-355c-4f5d-ae82-b634e290db41",
   "metadata": {},
   "outputs": [
    {
     "data": {
      "text/plain": [
       "300"
      ]
     },
     "execution_count": 3,
     "metadata": {},
     "output_type": "execute_result"
    }
   ],
   "source": [
    "tdim = domain.topology.dim\n",
    "fdim = tdim - 1\n",
    "\n",
    "num_cells = domain.topology.index_map(tdim).size_local\n",
    "num_cells"
   ]
  },
  {
   "cell_type": "code",
   "execution_count": 4,
   "id": "4dadda5e-4490-4f0a-8fc4-e2ecdf63bd5f",
   "metadata": {},
   "outputs": [
    {
     "data": {
      "text/plain": [
       "array([  0,   2,   5,   7,  14,  16,  26,  28,  41,  43,  59,  61,  80,\n",
       "        82, 104, 106, 131, 133, 161, 163, 166, 194, 196, 225, 227, 256,\n",
       "       258, 287, 289, 318, 320, 347, 349, 373, 375, 396, 398, 416, 418,\n",
       "       433, 435, 447, 449, 458, 460, 466, 468, 471, 473, 474], dtype=int32)"
      ]
     },
     "execution_count": 4,
     "metadata": {},
     "output_type": "execute_result"
    }
   ],
   "source": [
    "boundary_entities = dolfinx.mesh.locate_entities_boundary(\n",
    "    domain, fdim, lambda x: np.full((x.shape[1], ), True))\n",
    "boundary_entities"
   ]
  },
  {
   "cell_type": "code",
   "execution_count": 5,
   "id": "571b45f7-2fe4-47bf-a569-f70d1ec2ea98",
   "metadata": {},
   "outputs": [],
   "source": [
    "boundary_entities = boundary_entities[0:-1]"
   ]
  },
  {
   "cell_type": "code",
   "execution_count": 6,
   "id": "1c5b1eaf-6661-436f-96f9-db4f3b9bfaa6",
   "metadata": {},
   "outputs": [],
   "source": [
    "from ufl import (FiniteElement, Measure, VectorElement, MixedElement, SpatialCoordinate,\n",
    "                 TestFunctions, TrialFunctions, div, grad, curl, sin, cos, exp, inner, FacetNormal)\n",
    "from dolfinx import fem, io, mesh"
   ]
  },
  {
   "cell_type": "code",
   "execution_count": 7,
   "id": "43c71acf-6f0e-4605-8ba4-46ef044ed609",
   "metadata": {},
   "outputs": [],
   "source": [
    "k = 1\n",
    "# V_el = FiniteElement(\"RT\", domain.ufl_cell(), k)\n",
    "V_el = VectorElement(\"CR\", domain.ufl_cell(), k)\n",
    "Q_el = FiniteElement(\"DG\", domain.ufl_cell(), k-1)\n",
    "W_el = MixedElement([V_el, Q_el])\n",
    "W = fem.FunctionSpace(domain, W_el)\n",
    "V, _ = W.sub(0).collapse()\n",
    "Q, _ = W.sub(1).collapse()"
   ]
  },
  {
   "cell_type": "code",
   "execution_count": 8,
   "id": "12a85d00-1291-4bbd-a47c-85921417de68",
   "metadata": {},
   "outputs": [],
   "source": [
    "uD = fem.Function(V)\n",
    "pD = fem.Function(Q)\n",
    "\n",
    "x = SpatialCoordinate(domain)\n",
    "\n",
    "precursor = sin(ufl.pi*x[0])**2*sin(ufl.pi*x[1])**2\n",
    "u_ex = curl(precursor)\n",
    "p_ex = cos(ufl.pi*2*x[0])*cos(ufl.pi*2*x[1])\n",
    "\n",
    "uD.interpolate(fem.Expression(u_ex, V.element.interpolation_points()))\n",
    "pD.interpolate(fem.Expression(p_ex, Q.element.interpolation_points()))\n",
    "\n",
    "f = -grad(p_ex)-div(grad(u_ex))"
   ]
  },
  {
   "cell_type": "code",
   "execution_count": 9,
   "id": "0855adfe-ff7e-4a85-b5dd-30972e318f6b",
   "metadata": {},
   "outputs": [],
   "source": [
    "(u, p) = TrialFunctions(W)\n",
    "(v, q) = TestFunctions(W)\n",
    "\n",
    "dx = Measure(\"dx\", domain)\n",
    "ds = Measure(\"ds\", domain)\n",
    "# n = ufl.FacetNormal(domain)\n",
    "# dx = ufl.dx\n",
    "# ds = ufl.ds\n",
    "a  = inner(grad(u), grad(v)) * dx + inner(p, div(v)) * dx \n",
    "a += inner(div(u), q) * dx\n",
    "L = inner(f, v) * dx"
   ]
  },
  {
   "cell_type": "code",
   "execution_count": 10,
   "id": "89d0e8ec-5660-4170-af52-fdbcb59d1bbb",
   "metadata": {},
   "outputs": [],
   "source": [
    "# Now setup boundary conditions\n",
    "boundary_dofs = dolfinx.fem.locate_dofs_topological((W.sub(0), V), fdim, boundary_entities)\n",
    "bc = dolfinx.fem.dirichletbc(uD, boundary_dofs)"
   ]
  },
  {
   "cell_type": "code",
   "execution_count": 11,
   "id": "a98192ed-8581-48d4-9b48-f6bce4f04653",
   "metadata": {},
   "outputs": [],
   "source": [
    "problem = fem.petsc.LinearProblem(a, L, bcs=[bc], petsc_options={\n",
    "                                   \"ksp_type\": \"preonly\", \"pc_type\": \"lu\", \"pc_factor_mat_solver_type\": \"mumps\"})"
   ]
  },
  {
   "cell_type": "code",
   "execution_count": null,
   "id": "3a275dba-6432-482b-8fd5-dc06cca273e8",
   "metadata": {},
   "outputs": [],
   "source": [
    "try:\n",
    "    w_h = problem.solve()\n",
    "except PETSc.Error as e:\n",
    "    if e.ierr == 92:\n",
    "        print(\"The required PETSc solver/preconditioner is not available. Exiting.\")\n",
    "        print(e)\n",
    "        exit(0)\n",
    "    else:\n",
    "        raise e\n",
    "\n",
    "u_h, p_h = w_h.split()"
   ]
  },
  {
   "cell_type": "code",
   "execution_count": null,
   "id": "70898fae-e8cc-41bd-8d65-a6a80c3b64b0",
   "metadata": {},
   "outputs": [],
   "source": [
    "u_h.name = 'u'\n",
    "p_h.name = 'p'\n",
    "uD.name = 'u_exact'\n",
    "pD.name = 'p_exact'"
   ]
  },
  {
   "cell_type": "code",
   "execution_count": null,
   "id": "10677a39-16ba-4595-a9f4-3ccb6e28c880",
   "metadata": {},
   "outputs": [],
   "source": [
    "from dolfinx import io\n",
    "# with io.VTXWriter(domain.comm, \"output.bp\", [w_h]) as vtx:\n",
    "#     vtx.write(0.0)\n",
    "with io.XDMFFile(domain.comm, \"stokes.xdmf\", \"w\") as xdmf:\n",
    "    xdmf.write_mesh(domain)\n",
    "    xdmf.write_function(u_h)\n",
    "    xdmf.write_function(uD)\n",
    "    xdmf.write_function(p_h)\n",
    "    xdmf.write_function(pD)\n"
   ]
  },
  {
   "cell_type": "code",
   "execution_count": null,
   "id": "234c4ba3-48db-414e-b22c-2d013a0cbb97",
   "metadata": {},
   "outputs": [],
   "source": [
    "import numpy as np\n",
    "\n",
    "error_form_u = fem.form(inner(u_h-uD, u_h-uD) * dx)\n",
    "error_local_u = fem.assemble_scalar(error_form_u)\n",
    "errorL2_u = np.sqrt(domain.comm.allreduce(error_local_u, op=mpi4py.MPI.SUM))\n",
    "\n",
    "error_form_p = fem.form(inner(p_h-pD, p_h-pD) * dx)\n",
    "error_local_p = fem.assemble_scalar(error_form_p)\n",
    "errorL2_p = np.sqrt(domain.comm.allreduce(error_local_p, op=mpi4py.MPI.SUM))\n",
    "\n",
    "if domain.comm.rank == 0:\n",
    "    print(fr\"$L^2$-error u: {errorL2_u:.2e}\")\n",
    "    print(fr\"$L^2$-error p: {errorL2_p:.2e}\")"
   ]
  },
  {
   "cell_type": "code",
   "execution_count": null,
   "id": "dbb97c0c-be57-4e84-8d42-dcf5c9e775b0",
   "metadata": {},
   "outputs": [],
   "source": []
  }
 ],
 "metadata": {
  "kernelspec": {
   "display_name": "Python 3 (ipykernel)",
   "language": "python",
   "name": "python3"
  },
  "language_info": {
   "codemirror_mode": {
    "name": "ipython",
    "version": 3
   },
   "file_extension": ".py",
   "mimetype": "text/x-python",
   "name": "python",
   "nbconvert_exporter": "python",
   "pygments_lexer": "ipython3",
   "version": "3.10.6"
  }
 },
 "nbformat": 4,
 "nbformat_minor": 5
}
