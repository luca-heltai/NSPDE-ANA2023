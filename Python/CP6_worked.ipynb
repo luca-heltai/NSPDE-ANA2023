{
  "nbformat": 4,
  "nbformat_minor": 0,
  "metadata": {
    "colab": {
      "name": "C5.ipynb",
      "provenance": [],
      "authorship_tag": "ABX9TyPpcKs3lbE+c9YqARR/p6KM",
      "include_colab_link": true
    },
    "kernelspec": {
      "name": "python3",
      "display_name": "Python 3"
    },
    "language_info": {
      "name": "python"
    }
  },
  "cells": [
    {
      "cell_type": "markdown",
      "metadata": {
        "id": "view-in-github",
        "colab_type": "text"
      },
      "source": [
        "<a href=\"https://colab.research.google.com/github/andreacangiani/NSPDE-ANA2023/blob/main/Python/CP6_worked.ipynb\" target=\"_parent\"><img src=\"https://colab.research.google.com/assets/colab-badge.svg\" alt=\"Open In Colab\"/></a>"
      ]
    },
    {
      "cell_type": "markdown",
      "source": [
        "# Finite Element Method in 1D - any order"
      ],
      "metadata": {
        "id": "kmGtV67jT5OB"
      }
    },
    {
      "cell_type": "markdown",
      "source": [
        "Finite Element Method solver of any order $k$ for the 1D Poisson problem:\n",
        "\n",
        "$-\\Delta u=f \\quad \\text{in } \\Omega=(a,b)$\n",
        "\n",
        "$u|_{\\partial\\Omega}=0$"
      ],
      "metadata": {
        "id": "n4E6Q4iET_cv"
      }
    },
    {
      "cell_type": "code",
      "source": [
        "import numpy as np\n",
        "import matplotlib.pyplot as plt\n",
        "import scipy.sparse as sp\n",
        "from scipy.sparse.linalg import spsolve\n",
        "import sympy as sym"
      ],
      "metadata": {
        "id": "5asorKOcUHgn"
      },
      "execution_count": 1,
      "outputs": []
    },
    {
      "cell_type": "code",
      "source": [
        "# Gauss quadrature formula on [0,1]\n",
        "def quadrature(n_quadrature_points):\n",
        "\n",
        "  # use numpy Gauss quadrature. This is defined in [-1,1]\n",
        "  q, w = np.polynomial.legendre.leggauss(n_quadrature_points)\n",
        "\n",
        "  return (q+1)/2, w/2"
      ],
      "metadata": {
        "id": "orF2hMSNUNzv"
      },
      "execution_count": 2,
      "outputs": []
    },
    {
      "cell_type": "code",
      "source": [
        "def mesh(omega,N):\n",
        "  \n",
        "  return np.linspace(omega[0],omega[1],N+1)"
      ],
      "metadata": {
        "id": "9PhJzOfsURqD"
      },
      "execution_count": 3,
      "outputs": []
    },
    {
      "cell_type": "code",
      "execution_count": 4,
      "metadata": {
        "id": "2sYL59PETqf0"
      },
      "outputs": [],
      "source": [
        "# The reference element is [0,1]. We construct the mappings, the determinant of their Jacobians, and the \n",
        "# reference Basis functions\n",
        "# by L. Heltai\n",
        "\n",
        "def mapping(q, i):\n",
        "    \"\"\"\n",
        "    Returns the mapping from [0,1] to T_k := [q[k], q[k+1]]\n",
        "    \"\"\"\n",
        "    assert i < len(q)-1\n",
        "    assert i >= 0\n",
        "    return lambda x: q[i]+x*(q[i+1]-q[i])\n",
        "\n",
        "def mapping_J(q,i):\n",
        "    assert i < len(q)-1\n",
        "    assert i >= 0\n",
        "    return (q[i+1]-q[i])\n",
        "\n",
        "def lagrange_basis(q, i):\n",
        "    assert i < len(q)\n",
        "    assert i >= 0\n",
        "    return lambda x: np.prod([(x-q[j])/(q[i]-q[j]) for j in range(len(q)) if i!=j], axis=0)\n",
        "\n",
        "# Workaround, to allow lambdify to work also on constant expressions\n",
        "def np_lambdify(varname, func):\n",
        "    lamb = sym.lambdify(varname, func, modules=['numpy'])\n",
        "    if func.is_constant():\n",
        "        return lambda t: np.full_like(t, lamb(t))\n",
        "    else:\n",
        "        return lambda t: lamb(np.array(t))\n",
        "\n",
        "def lagrange_basis_derivative(q,i,order=1):\n",
        "    t = sym.var('t')\n",
        "    return np_lambdify(t, lagrange_basis(q,i)(t).diff(t,order))"
      ]
    },
    {
      "cell_type": "code",
      "source": [
        "def mesh(omega,N):\n",
        "  \n",
        "  return np.linspace(omega[0],omega[1],N+1)"
      ],
      "metadata": {
        "id": "vJ_D10wacmBz"
      },
      "execution_count": null,
      "outputs": []
    },
    {
      "cell_type": "markdown",
      "source": [
        "FEM code any order"
      ],
      "metadata": {
        "id": "yulFfPrzcpWw"
      }
    },
    {
      "cell_type": "code",
      "source": [
        "def FEM(omega,M,degree,n_qpoints,rhs):\n",
        "  # 1D FEM with k=degree system matrix and rhs for\n",
        "  # diffusion problem\n",
        "\n",
        "  # Dimension of the problem\n",
        "  N = M*degree+1\n",
        "\n",
        "  # grid\n",
        "  vertices = mesh(omega,M)\n",
        "\n",
        "  # reference element\n",
        "  q, w = quadrature(n_qpoints)\n",
        "  ref_nodes = np.linspace(0,1,degree+1)\n",
        "\n",
        "  # Evaluation of Lagrange basis\n",
        "  phi = np.array([lagrange_basis(ref_nodes,i)(q) for i in range(degree+1)]).T\n",
        "  dphi = np.array([lagrange_basis_derivative(ref_nodes,i)(q) for i in range(degree+1)]).T\n",
        "\n",
        "  # initialise system\n",
        "  A = sp.lil_matrix((N, N))\n",
        "  F = np.zeros(N)\n",
        "\n",
        "  for i in range(M):\n",
        "    JxW = mapping_J(vertices,i) * w\n",
        "    ele_A = np.einsum('qi,qj,q',dphi,dphi,JxW) / mapping_J(vertices,i)**2\n",
        "    ele_F = np.einsum('qi,q,q',phi,rhs(mapping(vertices, i)(q)),JxW)\n",
        "\n",
        "    # Assembly local-to-global\n",
        "    j = i * degree\n",
        "    m = j + degree + 1\n",
        "    A[j:m,j:m] += ele_A \n",
        "    F[j:m] += ele_F\n",
        "\n",
        "\n",
        "  return A, F"
      ],
      "metadata": {
        "id": "knoV9bt2ckfC"
      },
      "execution_count": 17,
      "outputs": []
    },
    {
      "cell_type": "markdown",
      "source": [
        "Apply boundary conditions"
      ],
      "metadata": {
        "id": "Ui5EW0VGc8Ed"
      }
    },
    {
      "cell_type": "code",
      "source": [
        "def apply_boundary_conditions(omega,A, F, g):\n",
        "  # Ideally should scale entries as those of A\n",
        "  N = A.shape[0] - 1\n",
        "  A[0,A[0].nonzero()] = 0; A[0,0] = 1;  F[0]=g(omega[0])\n",
        "  A[N,A[N].nonzero()] = 0; A[N,N] = 1; F[N]=g(omega[1])"
      ],
      "metadata": {
        "id": "XxN3dlxOc6Df"
      },
      "execution_count": 15,
      "outputs": []
    },
    {
      "cell_type": "markdown",
      "source": [
        "and solve"
      ],
      "metadata": {
        "id": "K-Bi-KG-c97-"
      }
    },
    {
      "cell_type": "code",
      "source": [
        "# Problem\n",
        "omega = [0,np.pi]\n",
        "rhs = lambda x: np.sin(x)\n",
        "sol = lambda x: np.sin(x)\n",
        "\n",
        "# degree of FEM basis\n",
        "degree = 3\n",
        "\n",
        "# Number of quadrature points\n",
        "n_qpoints = 2*degree+1\n",
        "\n",
        "# Number of experiments\n",
        "no_experiments = 7\n",
        "\n",
        "# Initialize \n",
        "MM = np.zeros(no_experiments)\n",
        "discrete_max_err = np.zeros(no_experiments)\n",
        "interpola_H1_err = np.zeros(no_experiments)\n",
        "conditioning = np.zeros(no_experiments)\n",
        "\n",
        "# Solution loop\n",
        "for i in range(no_experiments):\n",
        "  M = 2**(i+4)\n",
        "  MM[i] = M\n",
        "  N = M*degree+1\n",
        "\n",
        "  # call function computing FEM system\n",
        "  A, F = FEM(omega,M,degree,n_qpoints,rhs)\n",
        "\n",
        "  S = A\n",
        "\n",
        "  # and apply boundary conditions\n",
        "  apply_boundary_conditions(omega,A, F, sol)\n",
        "\n",
        "  # Solve the system\n",
        "  A = A.tocsr()\n",
        "  Uh = sp.linalg.spsolve(A,F)\n",
        "\n",
        "  # Compute exact solution\n",
        "  x = np.linspace(omega[0],omega[1],N)\n",
        "  U = sol(x)\n",
        "\n",
        "  # Compute discrete max norm error\n",
        "  discrete_max_err[i] = max(abs(U-Uh))\n",
        "  # Compute H1 norm of I_h u - u_h\n",
        "  interpola_H1_err[i] = (U-Uh).dot(S.dot(U-Uh))"
      ],
      "metadata": {
        "id": "BB_Cz-Ubd3A_"
      },
      "execution_count": 23,
      "outputs": []
    },
    {
      "cell_type": "code",
      "source": [
        "# Error loglog plots\n",
        "plt.loglog(MM,discrete_max_err,'o-')\n",
        "plt.loglog(MM,interpola_H1_err**(1/2),'bd-')\n",
        "plt.loglog(MM,MM**(-(degree+1)),'r')"
      ],
      "metadata": {
        "id": "WMXxzNqcd-gX",
        "outputId": "8c941b33-5078-48af-c769-1371bd98257e",
        "colab": {
          "base_uri": "https://localhost:8080/",
          "height": 453
        }
      },
      "execution_count": 24,
      "outputs": [
        {
          "output_type": "execute_result",
          "data": {
            "text/plain": [
              "[<matplotlib.lines.Line2D at 0x7f426c7f8dc0>]"
            ]
          },
          "metadata": {},
          "execution_count": 24
        },
        {
          "output_type": "display_data",
          "data": {
            "text/plain": [
              "<Figure size 640x480 with 1 Axes>"
            ],
            "image/png": "[encoded data removed]"
          },
          "metadata": {}
        }
      ]
    },
    {
      "cell_type": "markdown",
      "source": [
        "**Exercise 1**: Write function computing $H^1$-norm error and test convergence for $k>1$."
      ],
      "metadata": {
        "id": "CEoxSSHpeFxl"
      }
    }
  ]
}