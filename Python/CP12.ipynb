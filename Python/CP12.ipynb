{
 "cells": [
  {
   "cell_type": "markdown",
   "id": "f1a37e60-924b-40c2-b371-5e141371807c",
   "metadata": {},
   "source": [
    "# Poisson with Nitsche boundary conditions\n",
    "\n",
    "Solving $-\\Delta p = f$, and imposing bc with nitsche."
   ]
  },
  {
   "cell_type": "code",
   "execution_count": null,
   "id": "ebde70ce-7807-4be5-904e-8552cac2ba50",
   "metadata": {},
   "outputs": [],
   "source": [
    "import dolfinx\n",
    "import dolfinx.fem\n",
    "import dolfinx.mesh\n",
    "import mpi4py.MPI\n",
    "import numpy as np\n",
    "import ufl\n",
    "\n",
    "from ufl import (FiniteElement, Measure, VectorElement, MixedElement, SpatialCoordinate,\n",
    "                 TestFunction, TrialFunction, div, grad, exp, inner, FacetNormal,\n",
    "                 Circumradius)\n",
    "from dolfinx import fem, io, mesh"
   ]
  },
  {
   "cell_type": "code",
   "execution_count": null,
   "id": "6c7037ff-5ad6-48b9-a6d7-1718b18bfede",
   "metadata": {},
   "outputs": [],
   "source": [
    "n = 20\n",
    "m = 25\n",
    "domain = dolfinx.mesh.create_unit_square(mpi4py.MPI.COMM_WORLD, n, m)"
   ]
  },
  {
   "cell_type": "code",
   "execution_count": null,
   "id": "43c71acf-6f0e-4605-8ba4-46ef044ed609",
   "metadata": {},
   "outputs": [],
   "source": [
    "k = 2\n",
    "V_el = FiniteElement(\"CG\", domain.ufl_cell(), k)\n",
    "V = fem.FunctionSpace(domain, V_el)"
   ]
  },
  {
   "cell_type": "code",
   "execution_count": null,
   "id": "6ec2801f-d7cd-47f9-870f-f76be706dcfa",
   "metadata": {},
   "outputs": [],
   "source": [
    "uD = fem.Function(V)\n",
    "x = SpatialCoordinate(domain)\n",
    "\n",
    "u_ex =  1 + x[0]**2 + 2 * x[1]**2\n",
    "\n",
    "uD.interpolate(fem.Expression(u_ex, V.element.interpolation_points()))\n",
    "f = -div(grad(u_ex))"
   ]
  },
  {
   "cell_type": "code",
   "execution_count": null,
   "id": "0855adfe-ff7e-4a85-b5dd-30972e318f6b",
   "metadata": {},
   "outputs": [],
   "source": [
    "u = TrialFunction(V)\n",
    "v = TestFunction(V)\n",
    "alpha = 1000\n",
    "\n",
    "dx = ufl.dx\n",
    "ds = ufl.ds\n",
    "n = ufl.FacetNormal(domain)\n",
    "h = ufl.Circumradius(domain)\n",
    "\n",
    "a  = inner(grad(u), grad(v)) * dx\n",
    "a += -inner(grad(u), n) * v * ds\n",
    "a += -inner(grad(v), n) * u * ds\n",
    "a += alpha/h*inner(u,v) * ds\n",
    "\n",
    "L  = f * v * dx\n",
    "L += -inner(grad(v), n) * uD * ds \n",
    "L += alpha/h*inner(uD,v) * ds"
   ]
  },
  {
   "cell_type": "code",
   "execution_count": null,
   "id": "a98192ed-8581-48d4-9b48-f6bce4f04653",
   "metadata": {},
   "outputs": [],
   "source": [
    "problem = fem.petsc.LinearProblem(a, L)"
   ]
  },
  {
   "cell_type": "code",
   "execution_count": null,
   "id": "3a275dba-6432-482b-8fd5-dc06cca273e8",
   "metadata": {},
   "outputs": [],
   "source": [
    "try:\n",
    "    u_h = problem.solve()\n",
    "except PETSc.Error as e:\n",
    "    if e.ierr == 92:\n",
    "        print(\"The required PETSc solver/preconditioner is not available. Exiting.\")\n",
    "        print(e)\n",
    "        exit(0)\n",
    "    else:\n",
    "        raise e\n",
    "\n",
    "u_h.name = 'u'\n",
    "uD.name = 'u_exact'"
   ]
  },
  {
   "cell_type": "code",
   "execution_count": null,
   "id": "10677a39-16ba-4595-a9f4-3ccb6e28c880",
   "metadata": {},
   "outputs": [],
   "source": [
    "from dolfinx import io\n",
    "# with io.VTXWriter(domain.comm, \"output.bp\", [w_h]) as vtx:\n",
    "#     vtx.write(0.0)\n",
    "with io.XDMFFile(domain.comm, \"poisson_nitsche.xdmf\", \"w\") as xdmf:\n",
    "    xdmf.write_mesh(domain)\n",
    "    xdmf.write_function(u_h)\n",
    "    xdmf.write_function(uD)"
   ]
  },
  {
   "cell_type": "code",
   "execution_count": null,
   "id": "234c4ba3-48db-414e-b22c-2d013a0cbb97",
   "metadata": {},
   "outputs": [],
   "source": [
    "import numpy as np\n",
    "\n",
    "error_form_u = fem.form(inner(u_h-u_ex, u_h-u_ex) * dx)\n",
    "error_local_u = fem.assemble_scalar(error_form_u)\n",
    "errorL2_u = np.sqrt(domain.comm.allreduce(error_local_u, op=mpi4py.MPI.SUM))\n",
    "\n",
    "error_form_1 = fem.form(inner(grad(u_h-u_ex), grad(u_h-u_ex)) * dx)\n",
    "error_local_u_1 = fem.assemble_scalar(error_form_1)\n",
    "errorH1_u = np.sqrt(domain.comm.allreduce(error_local_u_1, op=mpi4py.MPI.SUM))\n",
    "\n",
    "if domain.comm.rank == 0:\n",
    "    print(fr\"$L^2$-error u: {errorL2_u:.2e}\")\n",
    "    print(fr\"$H^1$-error u: {errorH1_u:.2e}\")"
   ]
  },
  {
   "cell_type": "markdown",
   "id": "22c91c79-8cfd-48fc-9778-1c8dcbc26a46",
   "metadata": {},
   "source": [
    "k = 1 \n",
    "\n",
    "$L^2$-error u: 9.80e-04\n",
    "\n",
    "$H^1$-error u: 5.45e-02\n",
    "\n",
    "\n",
    "k = 2\n",
    "\n",
    "$L^2$-error u: 2.26e-04\n",
    "\n",
    "$H^1$-error u: 1.44e-03"
   ]
  }
 ],
 "metadata": {
  "kernelspec": {
   "display_name": "Python 3 (ipykernel)",
   "language": "python",
   "name": "python3"
  },
  "language_info": {
   "codemirror_mode": {
    "name": "ipython",
    "version": 3
   },
   "file_extension": ".py",
   "mimetype": "text/x-python",
   "name": "python",
   "nbconvert_exporter": "python",
   "pygments_lexer": "ipython3",
   "version": "3.10.6"
  }
 },
 "nbformat": 4,
 "nbformat_minor": 5
}
